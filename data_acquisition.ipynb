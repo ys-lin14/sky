{
 "cells": [
  {
   "cell_type": "code",
   "execution_count": 1,
   "metadata": {},
   "outputs": [],
   "source": [
    "import json\n",
    "import pandas as pd\n",
    "import sqlalchemy\n",
    "\n",
    "from database_credentials import get_database_url\n",
    "from google_play_scraper import app, reviews, Sort\n",
    "from google_play_scraper.features.reviews import ContinuationToken"
   ]
  },
  {
   "cell_type": "code",
   "execution_count": 2,
   "metadata": {},
   "outputs": [],
   "source": [
    "def insert_review_data(data, connection):\n",
    "    data.to_sql(\n",
    "        'reviews', \n",
    "        con=connection, \n",
    "        if_exists='append', \n",
    "        index=False,\n",
    "        method='multi'\n",
    "    )\n",
    "\n",
    "# https://stackoverflow.com/questions/12309269/\n",
    "def save_continuation_token(continuation_token):\n",
    "    token_data = continuation_token.unpack()\n",
    "    with open('token_data.json', 'w', encoding='utf-8') as json_file:\n",
    "        json.dump(token_data, json_file, ensure_ascii=False, indent=4)\n",
    "\n",
    "def load_continuation_token():\n",
    "    with open('token_data.json', 'r', encoding='utf-8') as json_file:\n",
    "        token_data = json.load(json_file)\n",
    "\n",
    "    token_data = tuple(token_data)\n",
    "    continuation_token = ContinuationToken(*token_data)\n",
    "    return continuation_token\n",
    "\n",
    "def preprocess(data):\n",
    "    column_names = ['userName', 'content', 'score', 'reviewCreatedVersion', 'at']\n",
    "    new_column_names = ['user_id', 'review', 'rating', 'version', 'datetime_created']\n",
    "    column_map = dict(zip(column_names, new_column_names))\n",
    "\n",
    "    preprocessed_data = pd.DataFrame(data) \n",
    "    preprocessed_data = preprocessed_data[column_names] # subset columns\n",
    "    preprocessed_data.rename(columns=column_map, inplace=True) # rename columns\n",
    "    return preprocessed_data\n",
    "\n",
    "def get_data(num_reviews):\n",
    "    try:\n",
    "        continuation_token = load_continuation_token()\n",
    "    except:\n",
    "        continuation_token = None\n",
    "\n",
    "    data, continuation_token = reviews(\n",
    "        'com.tgc.sky.android', \n",
    "        count=num_reviews, \n",
    "        continuation_token=continuation_token\n",
    "    )\n",
    "\n",
    "    review_data = preprocess(data)\n",
    "    \n",
    "    try:\n",
    "        insert_review_data(review_data, connection)\n",
    "        save_continuation_token(continuation_token)\n",
    "    except:\n",
    "        print('Error')"
   ]
  },
  {
   "cell_type": "code",
   "execution_count": 3,
   "metadata": {},
   "outputs": [],
   "source": [
    "database_url = get_database_url()\n",
    "engine = sqlalchemy.create_engine(database_url)\n",
    "connection = engine.connect()"
   ]
  },
  {
   "cell_type": "code",
   "execution_count": 4,
   "metadata": {},
   "outputs": [],
   "source": [
    "get_data(2000)"
   ]
  },
  {
   "cell_type": "code",
   "execution_count": 5,
   "metadata": {},
   "outputs": [],
   "source": [
    "connection.close()\n",
    "engine.dispose()"
   ]
  }
 ],
 "metadata": {
  "kernelspec": {
   "display_name": "Python 3",
   "language": "python",
   "name": "python3"
  },
  "language_info": {
   "codemirror_mode": {
    "name": "ipython",
    "version": 3
   },
   "file_extension": ".py",
   "mimetype": "text/x-python",
   "name": "python",
   "nbconvert_exporter": "python",
   "pygments_lexer": "ipython3",
   "version": "3.6.6"
  }
 },
 "nbformat": 4,
 "nbformat_minor": 2
}
