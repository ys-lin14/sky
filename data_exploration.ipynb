{
 "cells": [
  {
   "cell_type": "code",
   "execution_count": 84,
   "metadata": {},
   "outputs": [],
   "source": [
    "import datetime\n",
    "import matplotlib.pyplot as plt\n",
    "import pandas as pd\n",
    "import seaborn as sns\n",
    "import sqlalchemy\n",
    "\n",
    "from database_credentials import get_database_url"
   ]
  },
  {
   "cell_type": "code",
   "execution_count": 2,
   "metadata": {},
   "outputs": [],
   "source": [
    "database_url = get_database_url()\n",
    "engine = sqlalchemy.create_engine(database_url)\n",
    "connection = engine.connect()"
   ]
  },
  {
   "cell_type": "code",
   "execution_count": 3,
   "metadata": {},
   "outputs": [],
   "source": [
    "review_query = '''\n",
    "    SELECT *\n",
    "    FROM reviews;\n",
    "'''\n",
    "\n",
    "review_data = pd.read_sql(review_query, connection)"
   ]
  },
  {
   "cell_type": "code",
   "execution_count": 125,
   "metadata": {},
   "outputs": [
    {
     "name": "stdout",
     "output_type": "stream",
     "text": [
      "Shape: (10000, 5)\n",
      "\n",
      "Columns: ['user_id' 'review' 'rating' 'version' 'datetime_created']\n",
      "\n",
      "Columns with missing values:\n",
      "user_id             False\n",
      "review              False\n",
      "rating              False\n",
      "version              True\n",
      "datetime_created    False\n",
      "dtype: bool\n",
      "\n",
      "Descriptive Statistics for Rating:\n",
      "count    10000.000000\n",
      "mean         4.492200\n",
      "std          1.054443\n",
      "min          1.000000\n",
      "25%          4.000000\n",
      "50%          5.000000\n",
      "75%          5.000000\n",
      "max          5.000000\n",
      "Name: rating, dtype: float64\n",
      "\n",
      "Year Month Day: 2020-05-05 to 2020-06-27\n"
     ]
    }
   ],
   "source": [
    "print(\"Shape:\", review_data.shape)\n",
    "print(\"\\nColumns:\", review_data.columns.values)\n",
    "print(\"\\nColumns with missing values:\\n\", review_data.isna().any(), sep='')\n",
    "\n",
    "ratings = review_data['rating']\n",
    "print(\"\\nDescriptive Statistics for Rating:\\n\", ratings.describe(), sep='')\n",
    "\n",
    "year_month_day = review_data['datetime_created'].dt.to_period('D')\n",
    "print(\"\\nYear Month Day: {} to {}\".format(year_month_day.min(), year_month_day.max()))"
   ]
  },
  {
   "cell_type": "code",
   "execution_count": 63,
   "metadata": {
    "scrolled": false
   },
   "outputs": [
    {
     "data": {
      "image/png": "[encoded data removed]",
      "text/plain": [
       "<Figure size 432x288 with 1 Axes>"
      ]
     },
     "metadata": {
      "needs_background": "light"
     },
     "output_type": "display_data"
    },
    {
     "name": "stdout",
     "output_type": "stream",
     "text": [
      "Rating and Frequency:\n",
      "5    7491\n",
      "4    1189\n",
      "3     562\n",
      "1     491\n",
      "2     267\n",
      "Name: rating, dtype: int64\n"
     ]
    }
   ],
   "source": [
    "rating_countplot = sns.countplot(x='rating', data=review_data)\n",
    "rating_countplot.set(\n",
    "    title='Rating vs Frequency',\n",
    "    xlabel='Rating',\n",
    "    ylabel='Frequency'\n",
    ")\n",
    "plt.show()\n",
    "\n",
    "print(\"Rating and Frequency:\\n\", review_data['rating'].value_counts(), sep='')"
   ]
  },
  {
   "cell_type": "code",
   "execution_count": null,
   "metadata": {},
   "outputs": [],
   "source": [
    "# month vs frequency of each rating\n",
    "# month vs average rating"
   ]
  },
  {
   "cell_type": "code",
   "execution_count": null,
   "metadata": {},
   "outputs": [],
   "source": [
    "connection.close()\n",
    "engine.dispose()"
   ]
  }
 ],
 "metadata": {
  "kernelspec": {
   "display_name": "Python 3",
   "language": "python",
   "name": "python3"
  },
  "language_info": {
   "codemirror_mode": {
    "name": "ipython",
    "version": 3
   },
   "file_extension": ".py",
   "mimetype": "text/x-python",
   "name": "python",
   "nbconvert_exporter": "python",
   "pygments_lexer": "ipython3",
   "version": "3.6.6"
  }
 },
 "nbformat": 4,
 "nbformat_minor": 2
}
